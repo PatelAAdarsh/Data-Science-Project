{
 "cells": [
  {
   "cell_type": "code",
   "execution_count": 1,
   "id": "aa158e8f",
   "metadata": {},
   "outputs": [],
   "source": [
    "import pandas as pd \n",
    "import numpy as np\n",
    "\n",
    "import seaborn as sns\n",
    "import matplotlib.pyplot as plt\n",
    "%matplotlib inline\n",
    "\n",
    "\n",
    "# dataframe\n",
    "df_features = pd.read_csv('features.csv')\n",
    "df_train = pd.read_csv('train.csv')\n",
    "df_test = pd.read_csv('test.csv')\n",
    "df_stores = pd.read_csv('stores.csv')\n",
    "\n",
    "# set column name to lower \n",
    "df_stores.columns = df_stores.columns.str.lower()\n",
    "df_features.columns = df_features.columns.str.lower()\n",
    "df_train.columns = df_train.columns.str.lower()\n",
    "df_test.columns =df_test.columns.str.lower()"
   ]
  },
  {
   "cell_type": "code",
   "execution_count": 2,
   "id": "4e702fd7",
   "metadata": {},
   "outputs": [],
   "source": [
    "# converting date(object) to date(datetime)\n",
    "df_train[\"date\"] = pd.to_datetime(df_train[\"date\"])\n",
    "df_features[\"date\"] = pd.to_datetime(df_features[\"date\"])\n",
    "df_test[\"date\"] = pd.to_datetime(df_test[\"date\"])\n",
    "\n",
    "df_train['week_no'] = df_train['date'].dt.isocalendar().week"
   ]
  },
  {
   "cell_type": "code",
   "execution_count": 3,
   "id": "6116adbe",
   "metadata": {},
   "outputs": [],
   "source": [
    "del df_features['markdown1']\n",
    "del df_features['markdown2']\n",
    "del df_features['markdown3']\n",
    "del df_features['markdown4']\n",
    "del df_features['markdown5']\n",
    "del df_train['date']"
   ]
  },
  {
   "cell_type": "code",
   "execution_count": 4,
   "id": "4ac947e0",
   "metadata": {},
   "outputs": [],
   "source": [
    "# training and validation datasets\n",
    "n = int(len(df_train))\n",
    "n_val = int(n*0.2)\n",
    "n_test = int(n*0.2)\n",
    "n_train = n - (n_val+ n_test)\n",
    "\n",
    "\n",
    "# making random sample\n",
    "indx = np. arange(n)\n",
    "np.random.shuffle(indx)\n",
    "\n",
    "\n",
    "# Selecting Data\n",
    "sales_df_train = df_train.iloc[indx[:n_train]]\n",
    "sales_df_val = df_train.iloc[indx[n_train:(n_train+n_val)]]\n",
    "sales_df_test = df_train.iloc[indx[(n_train+n_val):]]"
   ]
  },
  {
   "cell_type": "code",
   "execution_count": 5,
   "id": "8427cb05",
   "metadata": {},
   "outputs": [
    {
     "data": {
      "text/html": [
       "<div>\n",
       "<style scoped>\n",
       "    .dataframe tbody tr th:only-of-type {\n",
       "        vertical-align: middle;\n",
       "    }\n",
       "\n",
       "    .dataframe tbody tr th {\n",
       "        vertical-align: top;\n",
       "    }\n",
       "\n",
       "    .dataframe thead th {\n",
       "        text-align: right;\n",
       "    }\n",
       "</style>\n",
       "<table border=\"1\" class=\"dataframe\">\n",
       "  <thead>\n",
       "    <tr style=\"text-align: right;\">\n",
       "      <th></th>\n",
       "      <th>store</th>\n",
       "      <th>dept</th>\n",
       "      <th>weekly_sales</th>\n",
       "      <th>isholiday</th>\n",
       "      <th>week_no</th>\n",
       "    </tr>\n",
       "  </thead>\n",
       "  <tbody>\n",
       "    <tr>\n",
       "      <th>0</th>\n",
       "      <td>14</td>\n",
       "      <td>56</td>\n",
       "      <td>2232.25</td>\n",
       "      <td>False</td>\n",
       "      <td>31</td>\n",
       "    </tr>\n",
       "    <tr>\n",
       "      <th>1</th>\n",
       "      <td>16</td>\n",
       "      <td>13</td>\n",
       "      <td>12451.39</td>\n",
       "      <td>False</td>\n",
       "      <td>4</td>\n",
       "    </tr>\n",
       "    <tr>\n",
       "      <th>2</th>\n",
       "      <td>26</td>\n",
       "      <td>60</td>\n",
       "      <td>88.00</td>\n",
       "      <td>False</td>\n",
       "      <td>29</td>\n",
       "    </tr>\n",
       "    <tr>\n",
       "      <th>3</th>\n",
       "      <td>33</td>\n",
       "      <td>74</td>\n",
       "      <td>353.83</td>\n",
       "      <td>False</td>\n",
       "      <td>33</td>\n",
       "    </tr>\n",
       "    <tr>\n",
       "      <th>4</th>\n",
       "      <td>14</td>\n",
       "      <td>54</td>\n",
       "      <td>90.68</td>\n",
       "      <td>False</td>\n",
       "      <td>45</td>\n",
       "    </tr>\n",
       "    <tr>\n",
       "      <th>...</th>\n",
       "      <td>...</td>\n",
       "      <td>...</td>\n",
       "      <td>...</td>\n",
       "      <td>...</td>\n",
       "      <td>...</td>\n",
       "    </tr>\n",
       "    <tr>\n",
       "      <th>252937</th>\n",
       "      <td>27</td>\n",
       "      <td>35</td>\n",
       "      <td>5756.00</td>\n",
       "      <td>False</td>\n",
       "      <td>18</td>\n",
       "    </tr>\n",
       "    <tr>\n",
       "      <th>252938</th>\n",
       "      <td>2</td>\n",
       "      <td>30</td>\n",
       "      <td>4789.64</td>\n",
       "      <td>False</td>\n",
       "      <td>14</td>\n",
       "    </tr>\n",
       "    <tr>\n",
       "      <th>252939</th>\n",
       "      <td>41</td>\n",
       "      <td>22</td>\n",
       "      <td>10171.46</td>\n",
       "      <td>False</td>\n",
       "      <td>28</td>\n",
       "    </tr>\n",
       "    <tr>\n",
       "      <th>252940</th>\n",
       "      <td>22</td>\n",
       "      <td>98</td>\n",
       "      <td>166.10</td>\n",
       "      <td>False</td>\n",
       "      <td>15</td>\n",
       "    </tr>\n",
       "    <tr>\n",
       "      <th>252941</th>\n",
       "      <td>2</td>\n",
       "      <td>58</td>\n",
       "      <td>15425.00</td>\n",
       "      <td>False</td>\n",
       "      <td>37</td>\n",
       "    </tr>\n",
       "  </tbody>\n",
       "</table>\n",
       "<p>252942 rows × 5 columns</p>\n",
       "</div>"
      ],
      "text/plain": [
       "        store  dept  weekly_sales  isholiday  week_no\n",
       "0          14    56       2232.25      False       31\n",
       "1          16    13      12451.39      False        4\n",
       "2          26    60         88.00      False       29\n",
       "3          33    74        353.83      False       33\n",
       "4          14    54         90.68      False       45\n",
       "...       ...   ...           ...        ...      ...\n",
       "252937     27    35       5756.00      False       18\n",
       "252938      2    30       4789.64      False       14\n",
       "252939     41    22      10171.46      False       28\n",
       "252940     22    98        166.10      False       15\n",
       "252941      2    58      15425.00      False       37\n",
       "\n",
       "[252942 rows x 5 columns]"
      ]
     },
     "execution_count": 5,
     "metadata": {},
     "output_type": "execute_result"
    }
   ],
   "source": [
    "# reset_index(drop = TRUE)\n",
    "sales_df_test.reset_index(drop = True)\n",
    "sales_df_val.reset_index(drop = True)\n",
    "sales_df_train.reset_index(drop = True)"
   ]
  },
  {
   "cell_type": "code",
   "execution_count": 6,
   "id": "bdd5f4ca",
   "metadata": {},
   "outputs": [
    {
     "name": "stderr",
     "output_type": "stream",
     "text": [
      "C:\\Users\\adars\\AppData\\Local\\Temp\\ipykernel_1100\\1044200165.py:3: RuntimeWarning: divide by zero encountered in log1p\n",
      "  y_test = np.log1p(sales_df_test.weekly_sales.values)\n",
      "C:\\Users\\adars\\AppData\\Local\\Temp\\ipykernel_1100\\1044200165.py:3: RuntimeWarning: invalid value encountered in log1p\n",
      "  y_test = np.log1p(sales_df_test.weekly_sales.values)\n",
      "C:\\Users\\adars\\AppData\\Local\\Temp\\ipykernel_1100\\1044200165.py:4: RuntimeWarning: divide by zero encountered in log1p\n",
      "  y_train = np.log1p(sales_df_train.weekly_sales.values)\n",
      "C:\\Users\\adars\\AppData\\Local\\Temp\\ipykernel_1100\\1044200165.py:4: RuntimeWarning: invalid value encountered in log1p\n",
      "  y_train = np.log1p(sales_df_train.weekly_sales.values)\n",
      "C:\\Users\\adars\\AppData\\Local\\Temp\\ipykernel_1100\\1044200165.py:5: RuntimeWarning: divide by zero encountered in log1p\n",
      "  y_val = np.log1p(sales_df_val.weekly_sales.values)\n",
      "C:\\Users\\adars\\AppData\\Local\\Temp\\ipykernel_1100\\1044200165.py:5: RuntimeWarning: invalid value encountered in log1p\n",
      "  y_val = np.log1p(sales_df_val.weekly_sales.values)\n"
     ]
    }
   ],
   "source": [
    "# setting the target value for model\n",
    "\n",
    "y_test = np.log1p(sales_df_test.weekly_sales.values)\n",
    "y_train = np.log1p(sales_df_train.weekly_sales.values)\n",
    "y_val = np.log1p(sales_df_val.weekly_sales.values)"
   ]
  },
  {
   "cell_type": "code",
   "execution_count": 7,
   "id": "bca392d8",
   "metadata": {},
   "outputs": [
    {
     "name": "stdout",
     "output_type": "stream",
     "text": [
      "8.52710222492856\n",
      "'nan' value after replacing it with mean_value : 0\n"
     ]
    }
   ],
   "source": [
    "# handling 'inf value'\n",
    "np.sum(np.isinf(y_train))\n",
    "inf_mask = np.isinf(y_train)\n",
    "\n",
    "# replace 'inf' with 'nan' value\n",
    "y_train[inf_mask] = np.nan\n",
    "\n",
    "# calculating mean of the array\n",
    "mean_value = np.nanmean(y_train)\n",
    "print(mean_value)\n",
    "\n",
    "# replacing 'nan' value with mean_value\n",
    "y_train = np.where(np.isnan(y_train), mean_value, y_train)\n",
    "print(\"'nan' value after replacing it with mean_value :\", np.sum(np.isnan(y_train)))"
   ]
  },
  {
   "cell_type": "code",
   "execution_count": 8,
   "id": "6eccacd6",
   "metadata": {},
   "outputs": [
    {
     "name": "stdout",
     "output_type": "stream",
     "text": [
      "8.527212917611429\n",
      "'nan' value after replacing it with mean_value : 0\n"
     ]
    }
   ],
   "source": [
    "# handling 'inf value'\n",
    "np.sum(np.isinf(y_val))\n",
    "inf_mask = np.isinf(y_val)\n",
    "\n",
    "# replace 'inf' with 'nan' value\n",
    "y_val[inf_mask] = np.nan\n",
    "\n",
    "# calculating mean of the array\n",
    "mean_value = np.nanmean(y_val)\n",
    "print(mean_value)\n",
    "\n",
    "# replacing 'nan' value with mean_value\n",
    "y_val = np.where(np.isnan(y_val), mean_value, y_val)\n",
    "print(\"'nan' value after replacing it with mean_value :\", np.sum(np.isnan(y_val)))\n"
   ]
  },
  {
   "cell_type": "code",
   "execution_count": 9,
   "id": "23b2c3d1",
   "metadata": {},
   "outputs": [],
   "source": [
    "del sales_df_train['weekly_sales']\n",
    "del sales_df_test['weekly_sales']\n",
    "del sales_df_val['weekly_sales']"
   ]
  },
  {
   "cell_type": "code",
   "execution_count": 10,
   "id": "fbd35ba2",
   "metadata": {},
   "outputs": [
    {
     "data": {
      "text/plain": [
       "store          39\n",
       "dept            5\n",
       "isholiday    True\n",
       "week_no        36\n",
       "Name: 361784, dtype: object"
      ]
     },
     "execution_count": 10,
     "metadata": {},
     "output_type": "execute_result"
    }
   ],
   "source": [
    "sales_df_train.iloc[10]"
   ]
  },
  {
   "cell_type": "markdown",
   "id": "f1ea266e",
   "metadata": {},
   "source": [
    "## Gradient Boosting"
   ]
  },
  {
   "cell_type": "code",
   "execution_count": 11,
   "id": "e9f3d488",
   "metadata": {},
   "outputs": [],
   "source": [
    "from sklearn.ensemble import GradientBoostingRegressor\n",
    "from sklearn.feature_extraction import DictVectorizer\n",
    "\n",
    "from sklearn.metrics import mean_squared_error"
   ]
  },
  {
   "cell_type": "code",
   "execution_count": 12,
   "id": "dd4fcf2b",
   "metadata": {},
   "outputs": [],
   "source": [
    "# One-Hot Incoding\n",
    "dv = DictVectorizer(sparse = False)\n",
    "\n",
    "train_dict = sales_df_train.to_dict(orient='records')\n",
    "X_train = dv.fit_transform(train_dict)\n",
    "\n",
    "val_dict = sales_df_val.to_dict(orient='records')\n",
    "X_val = dv.fit_transform(val_dict)"
   ]
  },
  {
   "cell_type": "code",
   "execution_count": 13,
   "id": "07c86920",
   "metadata": {},
   "outputs": [
    {
     "data": {
      "text/html": [
       "<style>#sk-container-id-1 {color: black;}#sk-container-id-1 pre{padding: 0;}#sk-container-id-1 div.sk-toggleable {background-color: white;}#sk-container-id-1 label.sk-toggleable__label {cursor: pointer;display: block;width: 100%;margin-bottom: 0;padding: 0.3em;box-sizing: border-box;text-align: center;}#sk-container-id-1 label.sk-toggleable__label-arrow:before {content: \"▸\";float: left;margin-right: 0.25em;color: #696969;}#sk-container-id-1 label.sk-toggleable__label-arrow:hover:before {color: black;}#sk-container-id-1 div.sk-estimator:hover label.sk-toggleable__label-arrow:before {color: black;}#sk-container-id-1 div.sk-toggleable__content {max-height: 0;max-width: 0;overflow: hidden;text-align: left;background-color: #f0f8ff;}#sk-container-id-1 div.sk-toggleable__content pre {margin: 0.2em;color: black;border-radius: 0.25em;background-color: #f0f8ff;}#sk-container-id-1 input.sk-toggleable__control:checked~div.sk-toggleable__content {max-height: 200px;max-width: 100%;overflow: auto;}#sk-container-id-1 input.sk-toggleable__control:checked~label.sk-toggleable__label-arrow:before {content: \"▾\";}#sk-container-id-1 div.sk-estimator input.sk-toggleable__control:checked~label.sk-toggleable__label {background-color: #d4ebff;}#sk-container-id-1 div.sk-label input.sk-toggleable__control:checked~label.sk-toggleable__label {background-color: #d4ebff;}#sk-container-id-1 input.sk-hidden--visually {border: 0;clip: rect(1px 1px 1px 1px);clip: rect(1px, 1px, 1px, 1px);height: 1px;margin: -1px;overflow: hidden;padding: 0;position: absolute;width: 1px;}#sk-container-id-1 div.sk-estimator {font-family: monospace;background-color: #f0f8ff;border: 1px dotted black;border-radius: 0.25em;box-sizing: border-box;margin-bottom: 0.5em;}#sk-container-id-1 div.sk-estimator:hover {background-color: #d4ebff;}#sk-container-id-1 div.sk-parallel-item::after {content: \"\";width: 100%;border-bottom: 1px solid gray;flex-grow: 1;}#sk-container-id-1 div.sk-label:hover label.sk-toggleable__label {background-color: #d4ebff;}#sk-container-id-1 div.sk-serial::before {content: \"\";position: absolute;border-left: 1px solid gray;box-sizing: border-box;top: 0;bottom: 0;left: 50%;z-index: 0;}#sk-container-id-1 div.sk-serial {display: flex;flex-direction: column;align-items: center;background-color: white;padding-right: 0.2em;padding-left: 0.2em;position: relative;}#sk-container-id-1 div.sk-item {position: relative;z-index: 1;}#sk-container-id-1 div.sk-parallel {display: flex;align-items: stretch;justify-content: center;background-color: white;position: relative;}#sk-container-id-1 div.sk-item::before, #sk-container-id-1 div.sk-parallel-item::before {content: \"\";position: absolute;border-left: 1px solid gray;box-sizing: border-box;top: 0;bottom: 0;left: 50%;z-index: -1;}#sk-container-id-1 div.sk-parallel-item {display: flex;flex-direction: column;z-index: 1;position: relative;background-color: white;}#sk-container-id-1 div.sk-parallel-item:first-child::after {align-self: flex-end;width: 50%;}#sk-container-id-1 div.sk-parallel-item:last-child::after {align-self: flex-start;width: 50%;}#sk-container-id-1 div.sk-parallel-item:only-child::after {width: 0;}#sk-container-id-1 div.sk-dashed-wrapped {border: 1px dashed gray;margin: 0 0.4em 0.5em 0.4em;box-sizing: border-box;padding-bottom: 0.4em;background-color: white;}#sk-container-id-1 div.sk-label label {font-family: monospace;font-weight: bold;display: inline-block;line-height: 1.2em;}#sk-container-id-1 div.sk-label-container {text-align: center;}#sk-container-id-1 div.sk-container {/* jupyter's `normalize.less` sets `[hidden] { display: none; }` but bootstrap.min.css set `[hidden] { display: none !important; }` so we also need the `!important` here to be able to override the default hidden behavior on the sphinx rendered scikit-learn.org. See: https://github.com/scikit-learn/scikit-learn/issues/21755 */display: inline-block !important;position: relative;}#sk-container-id-1 div.sk-text-repr-fallback {display: none;}</style><div id=\"sk-container-id-1\" class=\"sk-top-container\"><div class=\"sk-text-repr-fallback\"><pre>GradientBoostingRegressor()</pre><b>In a Jupyter environment, please rerun this cell to show the HTML representation or trust the notebook. <br />On GitHub, the HTML representation is unable to render, please try loading this page with nbviewer.org.</b></div><div class=\"sk-container\" hidden><div class=\"sk-item\"><div class=\"sk-estimator sk-toggleable\"><input class=\"sk-toggleable__control sk-hidden--visually\" id=\"sk-estimator-id-1\" type=\"checkbox\" checked><label for=\"sk-estimator-id-1\" class=\"sk-toggleable__label sk-toggleable__label-arrow\">GradientBoostingRegressor</label><div class=\"sk-toggleable__content\"><pre>GradientBoostingRegressor()</pre></div></div></div></div></div>"
      ],
      "text/plain": [
       "GradientBoostingRegressor()"
      ]
     },
     "execution_count": 13,
     "metadata": {},
     "output_type": "execute_result"
    }
   ],
   "source": [
    "# Initiate model\n",
    "gbr = GradientBoostingRegressor(n_estimators=100, learning_rate=0.1, max_depth=3)\n",
    "\n",
    "# Training model\n",
    "gbr.fit(X_train, y_train)"
   ]
  },
  {
   "cell_type": "code",
   "execution_count": 14,
   "id": "f03eaf3c",
   "metadata": {},
   "outputs": [],
   "source": [
    "# make prediction\n",
    "y_pred = gbr.predict(X_val)\n",
    "y_pred_actual = np.expm1(y_pred)\n",
    "y_val_actual = np.expm1(y_val)"
   ]
  },
  {
   "cell_type": "code",
   "execution_count": 15,
   "id": "1ba364ca",
   "metadata": {},
   "outputs": [],
   "source": [
    "# evaluate model\n",
    "\n",
    "mse = mean_squared_error(y_pred_actual, y_val_actual)\n",
    "rsme = np.sqrt(mse)"
   ]
  },
  {
   "cell_type": "code",
   "execution_count": 16,
   "id": "120e4b06",
   "metadata": {},
   "outputs": [
    {
     "name": "stdout",
     "output_type": "stream",
     "text": [
      "17844.939884873842\n"
     ]
    }
   ],
   "source": [
    "print(rsme)"
   ]
  },
  {
   "cell_type": "code",
   "execution_count": null,
   "id": "27962f2f",
   "metadata": {},
   "outputs": [],
   "source": []
  },
  {
   "cell_type": "markdown",
   "id": "51f896fa",
   "metadata": {},
   "source": [
    "## Xgboost"
   ]
  },
  {
   "cell_type": "code",
   "execution_count": 17,
   "id": "dfb66f52",
   "metadata": {},
   "outputs": [],
   "source": [
    "import xgboost as xgb\n",
    "from sklearn.datasets import make_regression\n",
    "from sklearn.model_selection import train_test_split"
   ]
  },
  {
   "cell_type": "code",
   "execution_count": 23,
   "id": "f81bc402",
   "metadata": {},
   "outputs": [
    {
     "data": {
      "text/plain": [
       "store        0\n",
       "dept         0\n",
       "isholiday    0\n",
       "week_no      0\n",
       "dtype: int64"
      ]
     },
     "execution_count": 23,
     "metadata": {},
     "output_type": "execute_result"
    }
   ],
   "source": [
    "sales_df_train.isnull().sum()"
   ]
  },
  {
   "cell_type": "code",
   "execution_count": 31,
   "id": "cb879418",
   "metadata": {},
   "outputs": [],
   "source": [
    "features = dv.feature_names_"
   ]
  },
  {
   "cell_type": "code",
   "execution_count": 36,
   "id": "9450428c",
   "metadata": {},
   "outputs": [],
   "source": [
    "# Convert dataset to DMatrix (optimized data structure for XGBoost)\n",
    "dtrain = xgb.DMatrix(X_train, label=y_train, feature_names = features )\n",
    "dval = xgb.DMatrix(X_val, label=y_val, feature_names = features)"
   ]
  },
  {
   "cell_type": "code",
   "execution_count": 39,
   "id": "f876eaeb",
   "metadata": {},
   "outputs": [],
   "source": [
    "# Set parameters for regression\n",
    "params = {\n",
    "    'objective': 'reg:squarederror',  # Use a regression objective\n",
    "    'learning_rate': 0.1,\n",
    "    'max_depth': 3,\n",
    "}"
   ]
  },
  {
   "cell_type": "code",
   "execution_count": 40,
   "id": "ede5ea49",
   "metadata": {},
   "outputs": [
    {
     "ename": "TypeError",
     "evalue": "Not supported type for data.<class 'xgboost.core.DMatrix'>",
     "output_type": "error",
     "traceback": [
      "\u001b[1;31m---------------------------------------------------------------------------\u001b[0m",
      "\u001b[1;31mTypeError\u001b[0m                                 Traceback (most recent call last)",
      "Cell \u001b[1;32mIn[40], line 2\u001b[0m\n\u001b[0;32m      1\u001b[0m \u001b[38;5;66;03m# Convert dataset to DMatrix (optimized data structure for XGBoost)\u001b[39;00m\n\u001b[1;32m----> 2\u001b[0m dtrain \u001b[38;5;241m=\u001b[39m xgb\u001b[38;5;241m.\u001b[39mDMatrix(dtrain, label\u001b[38;5;241m=\u001b[39my_train)\n\u001b[0;32m      3\u001b[0m dtest \u001b[38;5;241m=\u001b[39m xgb\u001b[38;5;241m.\u001b[39mDMatrix(dval, label\u001b[38;5;241m=\u001b[39my_test)\n",
      "File \u001b[1;32m~\\AppData\\Roaming\\Python\\Python311\\site-packages\\xgboost\\core.py:730\u001b[0m, in \u001b[0;36mrequire_keyword_args.<locals>.throw_if.<locals>.inner_f\u001b[1;34m(*args, **kwargs)\u001b[0m\n\u001b[0;32m    728\u001b[0m \u001b[38;5;28;01mfor\u001b[39;00m k, arg \u001b[38;5;129;01min\u001b[39;00m \u001b[38;5;28mzip\u001b[39m(sig\u001b[38;5;241m.\u001b[39mparameters, args):\n\u001b[0;32m    729\u001b[0m     kwargs[k] \u001b[38;5;241m=\u001b[39m arg\n\u001b[1;32m--> 730\u001b[0m \u001b[38;5;28;01mreturn\u001b[39;00m func(\u001b[38;5;241m*\u001b[39m\u001b[38;5;241m*\u001b[39mkwargs)\n",
      "File \u001b[1;32m~\\AppData\\Roaming\\Python\\Python311\\site-packages\\xgboost\\core.py:857\u001b[0m, in \u001b[0;36mDMatrix.__init__\u001b[1;34m(self, data, label, weight, base_margin, missing, silent, feature_names, feature_types, nthread, group, qid, label_lower_bound, label_upper_bound, feature_weights, enable_categorical, data_split_mode)\u001b[0m\n\u001b[0;32m    854\u001b[0m     \u001b[38;5;28;01massert\u001b[39;00m \u001b[38;5;28mself\u001b[39m\u001b[38;5;241m.\u001b[39mhandle \u001b[38;5;129;01mis\u001b[39;00m \u001b[38;5;129;01mnot\u001b[39;00m \u001b[38;5;28;01mNone\u001b[39;00m\n\u001b[0;32m    855\u001b[0m     \u001b[38;5;28;01mreturn\u001b[39;00m\n\u001b[1;32m--> 857\u001b[0m handle, feature_names, feature_types \u001b[38;5;241m=\u001b[39m dispatch_data_backend(\n\u001b[0;32m    858\u001b[0m     data,\n\u001b[0;32m    859\u001b[0m     missing\u001b[38;5;241m=\u001b[39m\u001b[38;5;28mself\u001b[39m\u001b[38;5;241m.\u001b[39mmissing,\n\u001b[0;32m    860\u001b[0m     threads\u001b[38;5;241m=\u001b[39m\u001b[38;5;28mself\u001b[39m\u001b[38;5;241m.\u001b[39mnthread,\n\u001b[0;32m    861\u001b[0m     feature_names\u001b[38;5;241m=\u001b[39mfeature_names,\n\u001b[0;32m    862\u001b[0m     feature_types\u001b[38;5;241m=\u001b[39mfeature_types,\n\u001b[0;32m    863\u001b[0m     enable_categorical\u001b[38;5;241m=\u001b[39menable_categorical,\n\u001b[0;32m    864\u001b[0m     data_split_mode\u001b[38;5;241m=\u001b[39mdata_split_mode,\n\u001b[0;32m    865\u001b[0m )\n\u001b[0;32m    866\u001b[0m \u001b[38;5;28;01massert\u001b[39;00m handle \u001b[38;5;129;01mis\u001b[39;00m \u001b[38;5;129;01mnot\u001b[39;00m \u001b[38;5;28;01mNone\u001b[39;00m\n\u001b[0;32m    867\u001b[0m \u001b[38;5;28mself\u001b[39m\u001b[38;5;241m.\u001b[39mhandle \u001b[38;5;241m=\u001b[39m handle\n",
      "File \u001b[1;32m~\\AppData\\Roaming\\Python\\Python311\\site-packages\\xgboost\\data.py:1131\u001b[0m, in \u001b[0;36mdispatch_data_backend\u001b[1;34m(data, missing, threads, feature_names, feature_types, enable_categorical, data_split_mode)\u001b[0m\n\u001b[0;32m   1126\u001b[0m \u001b[38;5;28;01mif\u001b[39;00m converted \u001b[38;5;129;01mis\u001b[39;00m \u001b[38;5;129;01mnot\u001b[39;00m \u001b[38;5;28;01mNone\u001b[39;00m:\n\u001b[0;32m   1127\u001b[0m     \u001b[38;5;28;01mreturn\u001b[39;00m _from_scipy_csr(\n\u001b[0;32m   1128\u001b[0m         converted, missing, threads, feature_names, feature_types\n\u001b[0;32m   1129\u001b[0m     )\n\u001b[1;32m-> 1131\u001b[0m \u001b[38;5;28;01mraise\u001b[39;00m \u001b[38;5;167;01mTypeError\u001b[39;00m(\u001b[38;5;124m\"\u001b[39m\u001b[38;5;124mNot supported type for data.\u001b[39m\u001b[38;5;124m\"\u001b[39m \u001b[38;5;241m+\u001b[39m \u001b[38;5;28mstr\u001b[39m(\u001b[38;5;28mtype\u001b[39m(data)))\n",
      "\u001b[1;31mTypeError\u001b[0m: Not supported type for data.<class 'xgboost.core.DMatrix'>"
     ]
    }
   ],
   "source": [
    "# Convert dataset to DMatrix (optimized data structure for XGBoost)\n",
    "dtrain = xgb.DMatrix(dtrain, label=y_train)\n",
    "dtest = xgb.DMatrix(dval, label=y_test)"
   ]
  },
  {
   "cell_type": "code",
   "execution_count": null,
   "id": "e2828224",
   "metadata": {},
   "outputs": [],
   "source": []
  },
  {
   "cell_type": "code",
   "execution_count": 89,
   "id": "f2297f7e",
   "metadata": {},
   "outputs": [],
   "source": []
  },
  {
   "cell_type": "code",
   "execution_count": null,
   "id": "a4c29a21",
   "metadata": {},
   "outputs": [],
   "source": []
  },
  {
   "cell_type": "code",
   "execution_count": null,
   "id": "4217b392",
   "metadata": {},
   "outputs": [],
   "source": []
  },
  {
   "cell_type": "code",
   "execution_count": null,
   "id": "5c57d04d",
   "metadata": {},
   "outputs": [],
   "source": []
  },
  {
   "cell_type": "code",
   "execution_count": null,
   "id": "85dd1a41",
   "metadata": {},
   "outputs": [],
   "source": []
  },
  {
   "cell_type": "code",
   "execution_count": null,
   "id": "074dc02d",
   "metadata": {},
   "outputs": [],
   "source": []
  },
  {
   "cell_type": "code",
   "execution_count": null,
   "id": "acab0e2d",
   "metadata": {},
   "outputs": [],
   "source": []
  }
 ],
 "metadata": {
  "kernelspec": {
   "display_name": "Python 3 (ipykernel)",
   "language": "python",
   "name": "python3"
  },
  "language_info": {
   "codemirror_mode": {
    "name": "ipython",
    "version": 3
   },
   "file_extension": ".py",
   "mimetype": "text/x-python",
   "name": "python",
   "nbconvert_exporter": "python",
   "pygments_lexer": "ipython3",
   "version": "3.11.5"
  }
 },
 "nbformat": 4,
 "nbformat_minor": 5
}
