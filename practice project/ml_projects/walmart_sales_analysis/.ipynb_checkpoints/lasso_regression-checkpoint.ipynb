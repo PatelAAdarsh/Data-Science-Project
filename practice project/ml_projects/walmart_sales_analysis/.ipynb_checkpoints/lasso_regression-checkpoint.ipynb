{
 "cells": [
  {
   "cell_type": "code",
   "execution_count": 2,
   "id": "b1859148",
   "metadata": {},
   "outputs": [],
   "source": [
    "import pandas as pd \n",
    "import numpy as np\n",
    "\n",
    "import seaborn as sns\n",
    "import matplotlib.pyplot as plt\n",
    "%matplotlib inline\n",
    "\n",
    "\n",
    "# dataframe\n",
    "df_features = pd.read_csv('features.csv')\n",
    "df_train = pd.read_csv('train.csv')\n",
    "df_test = pd.read_csv('test.csv')\n",
    "df_stores = pd.read_csv('stores.csv')\n",
    "\n",
    "# set column name to lower \n",
    "df_stores.columns = df_stores.columns.str.lower()\n",
    "df_features.columns = df_features.columns.str.lower()\n",
    "df_train.columns = df_train.columns.str.lower()\n",
    "df_test.columns =df_test.columns.str.lower()"
   ]
  },
  {
   "cell_type": "code",
   "execution_count": 3,
   "id": "2abb9f76",
   "metadata": {},
   "outputs": [],
   "source": [
    "# converting date(object) to date(datetime)\n",
    "df_train[\"date\"] = pd.to_datetime(df_train[\"date\"])\n",
    "df_features[\"date\"] = pd.to_datetime(df_features[\"date\"])\n",
    "df_test[\"date\"] = pd.to_datetime(df_test[\"date\"])\n",
    "\n",
    "df_train['week_no'] = df_train['date'].dt.isocalendar().week"
   ]
  },
  {
   "cell_type": "code",
   "execution_count": 4,
   "id": "d57d0af3",
   "metadata": {},
   "outputs": [],
   "source": [
    "del df_features['markdown1']\n",
    "del df_features['markdown2']\n",
    "del df_features['markdown3']\n",
    "del df_features['markdown4']\n",
    "del df_features['markdown5']\n",
    "del df_train['date']"
   ]
  },
  {
   "cell_type": "code",
   "execution_count": 5,
   "id": "76b04e32",
   "metadata": {},
   "outputs": [],
   "source": [
    "# training and validation datasets\n",
    "n = int(len(df_train))\n",
    "n_val = int(n*0.2)\n",
    "n_test = int(n*0.2)\n",
    "n_train = n - (n_val+ n_test)\n",
    "\n",
    "\n",
    "# making random sample\n",
    "indx = np. arange(n)\n",
    "np.random.shuffle(indx)\n",
    "\n",
    "\n",
    "# Selecting Data\n",
    "sales_df_train = df_train.iloc[indx[:n_train]]\n",
    "sales_df_val = df_train.iloc[indx[n_train:(n_train+n_val)]]\n",
    "sales_df_test = df_train.iloc[indx[(n_train+n_val):]]"
   ]
  },
  {
   "cell_type": "code",
   "execution_count": 6,
   "id": "4a60c6bf",
   "metadata": {},
   "outputs": [
    {
     "data": {
      "text/html": [
       "<div>\n",
       "<style scoped>\n",
       "    .dataframe tbody tr th:only-of-type {\n",
       "        vertical-align: middle;\n",
       "    }\n",
       "\n",
       "    .dataframe tbody tr th {\n",
       "        vertical-align: top;\n",
       "    }\n",
       "\n",
       "    .dataframe thead th {\n",
       "        text-align: right;\n",
       "    }\n",
       "</style>\n",
       "<table border=\"1\" class=\"dataframe\">\n",
       "  <thead>\n",
       "    <tr style=\"text-align: right;\">\n",
       "      <th></th>\n",
       "      <th>store</th>\n",
       "      <th>dept</th>\n",
       "      <th>weekly_sales</th>\n",
       "      <th>isholiday</th>\n",
       "      <th>week_no</th>\n",
       "    </tr>\n",
       "  </thead>\n",
       "  <tbody>\n",
       "    <tr>\n",
       "      <th>0</th>\n",
       "      <td>42</td>\n",
       "      <td>93</td>\n",
       "      <td>29635.13</td>\n",
       "      <td>False</td>\n",
       "      <td>42</td>\n",
       "    </tr>\n",
       "    <tr>\n",
       "      <th>1</th>\n",
       "      <td>44</td>\n",
       "      <td>59</td>\n",
       "      <td>28.45</td>\n",
       "      <td>False</td>\n",
       "      <td>46</td>\n",
       "    </tr>\n",
       "    <tr>\n",
       "      <th>2</th>\n",
       "      <td>11</td>\n",
       "      <td>92</td>\n",
       "      <td>71582.27</td>\n",
       "      <td>False</td>\n",
       "      <td>22</td>\n",
       "    </tr>\n",
       "    <tr>\n",
       "      <th>3</th>\n",
       "      <td>34</td>\n",
       "      <td>59</td>\n",
       "      <td>413.88</td>\n",
       "      <td>False</td>\n",
       "      <td>39</td>\n",
       "    </tr>\n",
       "    <tr>\n",
       "      <th>4</th>\n",
       "      <td>11</td>\n",
       "      <td>92</td>\n",
       "      <td>81753.39</td>\n",
       "      <td>False</td>\n",
       "      <td>5</td>\n",
       "    </tr>\n",
       "    <tr>\n",
       "      <th>...</th>\n",
       "      <td>...</td>\n",
       "      <td>...</td>\n",
       "      <td>...</td>\n",
       "      <td>...</td>\n",
       "      <td>...</td>\n",
       "    </tr>\n",
       "    <tr>\n",
       "      <th>252937</th>\n",
       "      <td>34</td>\n",
       "      <td>42</td>\n",
       "      <td>4161.67</td>\n",
       "      <td>False</td>\n",
       "      <td>33</td>\n",
       "    </tr>\n",
       "    <tr>\n",
       "      <th>252938</th>\n",
       "      <td>44</td>\n",
       "      <td>32</td>\n",
       "      <td>42.00</td>\n",
       "      <td>False</td>\n",
       "      <td>15</td>\n",
       "    </tr>\n",
       "    <tr>\n",
       "      <th>252939</th>\n",
       "      <td>43</td>\n",
       "      <td>52</td>\n",
       "      <td>19.43</td>\n",
       "      <td>False</td>\n",
       "      <td>50</td>\n",
       "    </tr>\n",
       "    <tr>\n",
       "      <th>252940</th>\n",
       "      <td>20</td>\n",
       "      <td>10</td>\n",
       "      <td>54164.45</td>\n",
       "      <td>False</td>\n",
       "      <td>51</td>\n",
       "    </tr>\n",
       "    <tr>\n",
       "      <th>252941</th>\n",
       "      <td>35</td>\n",
       "      <td>29</td>\n",
       "      <td>6854.49</td>\n",
       "      <td>False</td>\n",
       "      <td>21</td>\n",
       "    </tr>\n",
       "  </tbody>\n",
       "</table>\n",
       "<p>252942 rows × 5 columns</p>\n",
       "</div>"
      ],
      "text/plain": [
       "        store  dept  weekly_sales  isholiday  week_no\n",
       "0          42    93      29635.13      False       42\n",
       "1          44    59         28.45      False       46\n",
       "2          11    92      71582.27      False       22\n",
       "3          34    59        413.88      False       39\n",
       "4          11    92      81753.39      False        5\n",
       "...       ...   ...           ...        ...      ...\n",
       "252937     34    42       4161.67      False       33\n",
       "252938     44    32         42.00      False       15\n",
       "252939     43    52         19.43      False       50\n",
       "252940     20    10      54164.45      False       51\n",
       "252941     35    29       6854.49      False       21\n",
       "\n",
       "[252942 rows x 5 columns]"
      ]
     },
     "execution_count": 6,
     "metadata": {},
     "output_type": "execute_result"
    }
   ],
   "source": [
    "# reset_index(drop = TRUE)\n",
    "sales_df_test.reset_index(drop = True)\n",
    "sales_df_val.reset_index(drop = True)\n",
    "sales_df_train.reset_index(drop = True)"
   ]
  },
  {
   "cell_type": "code",
   "execution_count": 7,
   "id": "750c4252",
   "metadata": {},
   "outputs": [
    {
     "name": "stderr",
     "output_type": "stream",
     "text": [
      "C:\\Users\\adars\\AppData\\Local\\Temp\\ipykernel_23692\\1044200165.py:3: RuntimeWarning: divide by zero encountered in log1p\n",
      "  y_test = np.log1p(sales_df_test.weekly_sales.values)\n",
      "C:\\Users\\adars\\AppData\\Local\\Temp\\ipykernel_23692\\1044200165.py:3: RuntimeWarning: invalid value encountered in log1p\n",
      "  y_test = np.log1p(sales_df_test.weekly_sales.values)\n",
      "C:\\Users\\adars\\AppData\\Local\\Temp\\ipykernel_23692\\1044200165.py:4: RuntimeWarning: divide by zero encountered in log1p\n",
      "  y_train = np.log1p(sales_df_train.weekly_sales.values)\n",
      "C:\\Users\\adars\\AppData\\Local\\Temp\\ipykernel_23692\\1044200165.py:4: RuntimeWarning: invalid value encountered in log1p\n",
      "  y_train = np.log1p(sales_df_train.weekly_sales.values)\n",
      "C:\\Users\\adars\\AppData\\Local\\Temp\\ipykernel_23692\\1044200165.py:5: RuntimeWarning: divide by zero encountered in log1p\n",
      "  y_val = np.log1p(sales_df_val.weekly_sales.values)\n",
      "C:\\Users\\adars\\AppData\\Local\\Temp\\ipykernel_23692\\1044200165.py:5: RuntimeWarning: invalid value encountered in log1p\n",
      "  y_val = np.log1p(sales_df_val.weekly_sales.values)\n"
     ]
    }
   ],
   "source": [
    "# setting the target value for model\n",
    "\n",
    "y_test = np.log1p(sales_df_test.weekly_sales.values)\n",
    "y_train = np.log1p(sales_df_train.weekly_sales.values)\n",
    "y_val = np.log1p(sales_df_val.weekly_sales.values)"
   ]
  },
  {
   "cell_type": "code",
   "execution_count": 8,
   "id": "1dd938ed",
   "metadata": {},
   "outputs": [],
   "source": [
    "del sales_df_train['weekly_sales']\n",
    "del sales_df_test['weekly_sales']\n",
    "del sales_df_val['weekly_sales']"
   ]
  },
  {
   "cell_type": "code",
   "execution_count": 9,
   "id": "0bfcb099",
   "metadata": {},
   "outputs": [
    {
     "data": {
      "text/plain": [
       "store          28\n",
       "dept           59\n",
       "isholiday    True\n",
       "week_no        52\n",
       "Name: 273942, dtype: object"
      ]
     },
     "execution_count": 9,
     "metadata": {},
     "output_type": "execute_result"
    }
   ],
   "source": [
    "sales_df_train.iloc[10]"
   ]
  },
  {
   "cell_type": "code",
   "execution_count": 10,
   "id": "a23d12e0",
   "metadata": {},
   "outputs": [],
   "source": [
    "from sklearn.model_selection import train_test_split\n",
    "from sklearn.linear_model import Lasso\n",
    "from sklearn.metrics import mean_squared_error"
   ]
  },
  {
   "cell_type": "code",
   "execution_count": 13,
   "id": "a6a704f3",
   "metadata": {},
   "outputs": [],
   "source": [
    "# One-Hot Encoding\n",
    "from sklearn.feature_extraction import DictVectorizer\n",
    "\n",
    "dv = DictVectorizer(sparse = False)"
   ]
  },
  {
   "cell_type": "code",
   "execution_count": 15,
   "id": "07da702d",
   "metadata": {},
   "outputs": [],
   "source": [
    "train_dict = sales_df_train.to_dict(orient='records')\n",
    "X_train = dv.fit_transform(train_dict)\n",
    "\n",
    "val_dict = sales_df_val.to_dict(orient='records')\n",
    "X_val = dv.fit_transform(val_dict)"
   ]
  },
  {
   "cell_type": "code",
   "execution_count": 16,
   "id": "377759bc",
   "metadata": {},
   "outputs": [],
   "source": [
    "# Iitiate model\n",
    "lasso = Lasso(alpha = 0.1)"
   ]
  },
  {
   "cell_type": "code",
   "execution_count": 20,
   "id": "976375bf",
   "metadata": {},
   "outputs": [
    {
     "data": {
      "text/plain": [
       "732"
      ]
     },
     "execution_count": 20,
     "metadata": {},
     "output_type": "execute_result"
    }
   ],
   "source": [
    "np.sum(np.isnan(y_train))"
   ]
  },
  {
   "cell_type": "code",
   "execution_count": 22,
   "id": "8c188eac",
   "metadata": {},
   "outputs": [
    {
     "name": "stdout",
     "output_type": "stream",
     "text": [
      "8.52615537736559\n",
      "'nan' value after replacing it with mean_value : 0\n"
     ]
    }
   ],
   "source": [
    "# handling 'inf value'\n",
    "np.sum(np.isinf(y_train))\n",
    "inf_mask = np.isinf(y_train)\n",
    "\n",
    "# replace 'inf' with 'nan' value\n",
    "y_train[inf_mask] = np.nan\n",
    "\n",
    "# calculating mean of the array\n",
    "mean_value = np.nanmean(y_train)\n",
    "print(mean_value)\n",
    "\n",
    "# replacing 'nan' value with mean_value\n",
    "y_train = np.where(np.isnan(y_train), mean_value, y_train)\n",
    "print(\"'nan' value after replacing it with mean_value :\", np.sum(np.isnan(y_train)))"
   ]
  },
  {
   "cell_type": "code",
   "execution_count": 23,
   "id": "0d32b962",
   "metadata": {},
   "outputs": [
    {
     "data": {
      "text/html": [
       "<style>#sk-container-id-1 {color: black;}#sk-container-id-1 pre{padding: 0;}#sk-container-id-1 div.sk-toggleable {background-color: white;}#sk-container-id-1 label.sk-toggleable__label {cursor: pointer;display: block;width: 100%;margin-bottom: 0;padding: 0.3em;box-sizing: border-box;text-align: center;}#sk-container-id-1 label.sk-toggleable__label-arrow:before {content: \"▸\";float: left;margin-right: 0.25em;color: #696969;}#sk-container-id-1 label.sk-toggleable__label-arrow:hover:before {color: black;}#sk-container-id-1 div.sk-estimator:hover label.sk-toggleable__label-arrow:before {color: black;}#sk-container-id-1 div.sk-toggleable__content {max-height: 0;max-width: 0;overflow: hidden;text-align: left;background-color: #f0f8ff;}#sk-container-id-1 div.sk-toggleable__content pre {margin: 0.2em;color: black;border-radius: 0.25em;background-color: #f0f8ff;}#sk-container-id-1 input.sk-toggleable__control:checked~div.sk-toggleable__content {max-height: 200px;max-width: 100%;overflow: auto;}#sk-container-id-1 input.sk-toggleable__control:checked~label.sk-toggleable__label-arrow:before {content: \"▾\";}#sk-container-id-1 div.sk-estimator input.sk-toggleable__control:checked~label.sk-toggleable__label {background-color: #d4ebff;}#sk-container-id-1 div.sk-label input.sk-toggleable__control:checked~label.sk-toggleable__label {background-color: #d4ebff;}#sk-container-id-1 input.sk-hidden--visually {border: 0;clip: rect(1px 1px 1px 1px);clip: rect(1px, 1px, 1px, 1px);height: 1px;margin: -1px;overflow: hidden;padding: 0;position: absolute;width: 1px;}#sk-container-id-1 div.sk-estimator {font-family: monospace;background-color: #f0f8ff;border: 1px dotted black;border-radius: 0.25em;box-sizing: border-box;margin-bottom: 0.5em;}#sk-container-id-1 div.sk-estimator:hover {background-color: #d4ebff;}#sk-container-id-1 div.sk-parallel-item::after {content: \"\";width: 100%;border-bottom: 1px solid gray;flex-grow: 1;}#sk-container-id-1 div.sk-label:hover label.sk-toggleable__label {background-color: #d4ebff;}#sk-container-id-1 div.sk-serial::before {content: \"\";position: absolute;border-left: 1px solid gray;box-sizing: border-box;top: 0;bottom: 0;left: 50%;z-index: 0;}#sk-container-id-1 div.sk-serial {display: flex;flex-direction: column;align-items: center;background-color: white;padding-right: 0.2em;padding-left: 0.2em;position: relative;}#sk-container-id-1 div.sk-item {position: relative;z-index: 1;}#sk-container-id-1 div.sk-parallel {display: flex;align-items: stretch;justify-content: center;background-color: white;position: relative;}#sk-container-id-1 div.sk-item::before, #sk-container-id-1 div.sk-parallel-item::before {content: \"\";position: absolute;border-left: 1px solid gray;box-sizing: border-box;top: 0;bottom: 0;left: 50%;z-index: -1;}#sk-container-id-1 div.sk-parallel-item {display: flex;flex-direction: column;z-index: 1;position: relative;background-color: white;}#sk-container-id-1 div.sk-parallel-item:first-child::after {align-self: flex-end;width: 50%;}#sk-container-id-1 div.sk-parallel-item:last-child::after {align-self: flex-start;width: 50%;}#sk-container-id-1 div.sk-parallel-item:only-child::after {width: 0;}#sk-container-id-1 div.sk-dashed-wrapped {border: 1px dashed gray;margin: 0 0.4em 0.5em 0.4em;box-sizing: border-box;padding-bottom: 0.4em;background-color: white;}#sk-container-id-1 div.sk-label label {font-family: monospace;font-weight: bold;display: inline-block;line-height: 1.2em;}#sk-container-id-1 div.sk-label-container {text-align: center;}#sk-container-id-1 div.sk-container {/* jupyter's `normalize.less` sets `[hidden] { display: none; }` but bootstrap.min.css set `[hidden] { display: none !important; }` so we also need the `!important` here to be able to override the default hidden behavior on the sphinx rendered scikit-learn.org. See: https://github.com/scikit-learn/scikit-learn/issues/21755 */display: inline-block !important;position: relative;}#sk-container-id-1 div.sk-text-repr-fallback {display: none;}</style><div id=\"sk-container-id-1\" class=\"sk-top-container\"><div class=\"sk-text-repr-fallback\"><pre>Lasso(alpha=0.1)</pre><b>In a Jupyter environment, please rerun this cell to show the HTML representation or trust the notebook. <br />On GitHub, the HTML representation is unable to render, please try loading this page with nbviewer.org.</b></div><div class=\"sk-container\" hidden><div class=\"sk-item\"><div class=\"sk-estimator sk-toggleable\"><input class=\"sk-toggleable__control sk-hidden--visually\" id=\"sk-estimator-id-1\" type=\"checkbox\" checked><label for=\"sk-estimator-id-1\" class=\"sk-toggleable__label sk-toggleable__label-arrow\">Lasso</label><div class=\"sk-toggleable__content\"><pre>Lasso(alpha=0.1)</pre></div></div></div></div></div>"
      ],
      "text/plain": [
       "Lasso(alpha=0.1)"
      ]
     },
     "execution_count": 23,
     "metadata": {},
     "output_type": "execute_result"
    }
   ],
   "source": [
    "# Training model\n",
    "lasso.fit(X_train, y_train)"
   ]
  },
  {
   "cell_type": "code",
   "execution_count": 24,
   "id": "a6b1d8ef",
   "metadata": {},
   "outputs": [
    {
     "name": "stdout",
     "output_type": "stream",
     "text": [
      "[ 9.68845787 11.60202494  8.97307508 ...  5.5521453   7.88863828\n",
      "  5.88735325]\n"
     ]
    }
   ],
   "source": [
    "# make prediction\n",
    "y_pred = lasso.predict(X_val)\n",
    "print(y_val)"
   ]
  },
  {
   "cell_type": "code",
   "execution_count": 25,
   "id": "73837c12",
   "metadata": {},
   "outputs": [
    {
     "data": {
      "text/plain": [
       "236"
      ]
     },
     "execution_count": 25,
     "metadata": {},
     "output_type": "execute_result"
    }
   ],
   "source": [
    "np.sum(np.isnan(y_val))"
   ]
  },
  {
   "cell_type": "code",
   "execution_count": 26,
   "id": "d23c2332",
   "metadata": {},
   "outputs": [
    {
     "name": "stdout",
     "output_type": "stream",
     "text": [
      "8.531180673849759\n",
      "'nan' value after replacing it with mean_value : 0\n"
     ]
    }
   ],
   "source": [
    "# handling 'inf value'\n",
    "np.sum(np.isinf(y_val))\n",
    "inf_mask = np.isinf(y_val)\n",
    "\n",
    "# replace 'inf' with 'nan' value\n",
    "y_val[inf_mask] = np.nan\n",
    "\n",
    "# calculating mean of the array\n",
    "mean_value = np.nanmean(y_val)\n",
    "print(mean_value)\n",
    "\n",
    "# replacing 'nan' value with mean_value\n",
    "y_val = np.where(np.isnan(y_val), mean_value, y_val)\n",
    "print(\"'nan' value after replacing it with mean_value :\", np.sum(np.isnan(y_val)))\n"
   ]
  },
  {
   "cell_type": "code",
   "execution_count": 27,
   "id": "f5d885e3",
   "metadata": {},
   "outputs": [],
   "source": [
    "# evaluate model\n",
    "#mse\n",
    "mse =  mean_squared_error(y_pred, y_val)\n",
    "#rmse\n",
    "rmse = np.sqrt(mse)"
   ]
  },
  {
   "cell_type": "code",
   "execution_count": 28,
   "id": "054b7420",
   "metadata": {},
   "outputs": [
    {
     "name": "stdout",
     "output_type": "stream",
     "text": [
      "1.9983407932474149\n"
     ]
    }
   ],
   "source": [
    "print(rmse)"
   ]
  },
  {
   "cell_type": "code",
   "execution_count": 30,
   "id": "14e4f32d",
   "metadata": {},
   "outputs": [
    {
     "name": "stdout",
     "output_type": "stream",
     "text": [
      "24935.76139827414\n"
     ]
    }
   ],
   "source": [
    "y_val_actual = np.expm1(y_val)\n",
    "y_pred_actual = np.expm1(y_pred)\n",
    "\n",
    "mse_actual  = mean_squared_error(y_pred_actual, y_val_actual)\n",
    "rmse = np.sqrt(mse_actual)\n",
    "\n",
    "print(rmse)"
   ]
  },
  {
   "cell_type": "code",
   "execution_count": null,
   "id": "c4e81e25",
   "metadata": {},
   "outputs": [],
   "source": []
  }
 ],
 "metadata": {
  "kernelspec": {
   "display_name": "Python 3 (ipykernel)",
   "language": "python",
   "name": "python3"
  },
  "language_info": {
   "codemirror_mode": {
    "name": "ipython",
    "version": 3
   },
   "file_extension": ".py",
   "mimetype": "text/x-python",
   "name": "python",
   "nbconvert_exporter": "python",
   "pygments_lexer": "ipython3",
   "version": "3.11.5"
  }
 },
 "nbformat": 4,
 "nbformat_minor": 5
}
