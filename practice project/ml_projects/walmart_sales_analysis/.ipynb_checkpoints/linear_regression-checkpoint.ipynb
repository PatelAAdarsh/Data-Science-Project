{
 "cells": [
  {
   "cell_type": "code",
   "execution_count": 1,
   "id": "b49ced68",
   "metadata": {},
   "outputs": [],
   "source": [
    "import pandas as pd \n",
    "import numpy as np\n",
    "\n",
    "import seaborn as sns\n",
    "import matplotlib.pyplot as plt\n",
    "%matplotlib inline\n",
    "\n",
    "\n",
    "\n",
    "df_features = pd.read_csv('features.csv')\n",
    "df_train = pd.read_csv('train.csv')\n",
    "df_test = pd.read_csv('test.csv')\n",
    "df_stores = pd.read_csv('stores.csv')\n",
    "\n",
    "df_stores.columns = df_stores.columns.str.lower()\n",
    "df_features.columns = df_features.columns.str.lower()\n",
    "df_train.columns = df_train.columns.str.lower()\n",
    "df_test.columns =df_test.columns.str.lower()\n"
   ]
  },
  {
   "cell_type": "code",
   "execution_count": 2,
   "id": "5c08dfc2",
   "metadata": {},
   "outputs": [],
   "source": [
    "# converting date(object) to date(datetime)\n",
    "df_train[\"date\"] = pd.to_datetime(df_train[\"date\"])\n",
    "df_features[\"date\"] = pd.to_datetime(df_features[\"date\"])\n",
    "df_test[\"date\"] = pd.to_datetime(df_test[\"date\"])\n",
    "\n",
    "df_train['week_no'] = df_train['date'].dt.isocalendar().week"
   ]
  },
  {
   "cell_type": "code",
   "execution_count": 3,
   "id": "99572201",
   "metadata": {},
   "outputs": [],
   "source": [
    "del df_features['markdown1']\n",
    "del df_features['markdown2']\n",
    "del df_features['markdown3']\n",
    "del df_features['markdown4']\n",
    "del df_features['markdown5']\n",
    "del df_train['date']"
   ]
  },
  {
   "cell_type": "code",
   "execution_count": 4,
   "id": "81d055d7",
   "metadata": {},
   "outputs": [
    {
     "data": {
      "text/plain": [
       "store             0\n",
       "date              0\n",
       "temperature       0\n",
       "fuel_price        0\n",
       "cpi             585\n",
       "unemployment    585\n",
       "isholiday         0\n",
       "dtype: int64"
      ]
     },
     "execution_count": 4,
     "metadata": {},
     "output_type": "execute_result"
    }
   ],
   "source": [
    "df_features.isnull().sum()"
   ]
  },
  {
   "cell_type": "code",
   "execution_count": 5,
   "id": "9feff1dc",
   "metadata": {},
   "outputs": [],
   "source": [
    "# training and validation datasets\n",
    "\n",
    "n = int(len(df_train))\n",
    "n_val = int(n*0.2)\n",
    "n_test = int(n*0.2)\n",
    "n_train = n - (n_val+ n_test)\n",
    "\n",
    "# making random sample\n",
    "indx = np. arange(n)\n",
    "np.random.shuffle(indx)\n",
    "\n",
    "# Selecting Data\n",
    "sales_df_train = df_train.iloc[indx[:n_train]]\n",
    "sales_df_val = df_train.iloc[indx[n_train:(n_train+n_val)]]\n",
    "sales_df_test = df_train.iloc[indx[(n_train+n_val):]]"
   ]
  },
  {
   "cell_type": "code",
   "execution_count": 6,
   "id": "1dddb623",
   "metadata": {},
   "outputs": [
    {
     "data": {
      "text/html": [
       "<div>\n",
       "<style scoped>\n",
       "    .dataframe tbody tr th:only-of-type {\n",
       "        vertical-align: middle;\n",
       "    }\n",
       "\n",
       "    .dataframe tbody tr th {\n",
       "        vertical-align: top;\n",
       "    }\n",
       "\n",
       "    .dataframe thead th {\n",
       "        text-align: right;\n",
       "    }\n",
       "</style>\n",
       "<table border=\"1\" class=\"dataframe\">\n",
       "  <thead>\n",
       "    <tr style=\"text-align: right;\">\n",
       "      <th></th>\n",
       "      <th>store</th>\n",
       "      <th>dept</th>\n",
       "      <th>weekly_sales</th>\n",
       "      <th>isholiday</th>\n",
       "      <th>week_no</th>\n",
       "    </tr>\n",
       "  </thead>\n",
       "  <tbody>\n",
       "    <tr>\n",
       "      <th>0</th>\n",
       "      <td>7</td>\n",
       "      <td>17</td>\n",
       "      <td>4470.08</td>\n",
       "      <td>False</td>\n",
       "      <td>42</td>\n",
       "    </tr>\n",
       "    <tr>\n",
       "      <th>1</th>\n",
       "      <td>11</td>\n",
       "      <td>42</td>\n",
       "      <td>6525.65</td>\n",
       "      <td>False</td>\n",
       "      <td>35</td>\n",
       "    </tr>\n",
       "    <tr>\n",
       "      <th>2</th>\n",
       "      <td>43</td>\n",
       "      <td>28</td>\n",
       "      <td>81.29</td>\n",
       "      <td>False</td>\n",
       "      <td>19</td>\n",
       "    </tr>\n",
       "    <tr>\n",
       "      <th>3</th>\n",
       "      <td>40</td>\n",
       "      <td>67</td>\n",
       "      <td>6546.16</td>\n",
       "      <td>False</td>\n",
       "      <td>21</td>\n",
       "    </tr>\n",
       "    <tr>\n",
       "      <th>4</th>\n",
       "      <td>25</td>\n",
       "      <td>55</td>\n",
       "      <td>9891.85</td>\n",
       "      <td>False</td>\n",
       "      <td>16</td>\n",
       "    </tr>\n",
       "    <tr>\n",
       "      <th>...</th>\n",
       "      <td>...</td>\n",
       "      <td>...</td>\n",
       "      <td>...</td>\n",
       "      <td>...</td>\n",
       "      <td>...</td>\n",
       "    </tr>\n",
       "    <tr>\n",
       "      <th>252937</th>\n",
       "      <td>19</td>\n",
       "      <td>41</td>\n",
       "      <td>3119.17</td>\n",
       "      <td>False</td>\n",
       "      <td>41</td>\n",
       "    </tr>\n",
       "    <tr>\n",
       "      <th>252938</th>\n",
       "      <td>31</td>\n",
       "      <td>58</td>\n",
       "      <td>3585.00</td>\n",
       "      <td>False</td>\n",
       "      <td>20</td>\n",
       "    </tr>\n",
       "    <tr>\n",
       "      <th>252939</th>\n",
       "      <td>24</td>\n",
       "      <td>41</td>\n",
       "      <td>1221.33</td>\n",
       "      <td>False</td>\n",
       "      <td>17</td>\n",
       "    </tr>\n",
       "    <tr>\n",
       "      <th>252940</th>\n",
       "      <td>16</td>\n",
       "      <td>82</td>\n",
       "      <td>8346.96</td>\n",
       "      <td>False</td>\n",
       "      <td>8</td>\n",
       "    </tr>\n",
       "    <tr>\n",
       "      <th>252941</th>\n",
       "      <td>9</td>\n",
       "      <td>42</td>\n",
       "      <td>5242.16</td>\n",
       "      <td>False</td>\n",
       "      <td>39</td>\n",
       "    </tr>\n",
       "  </tbody>\n",
       "</table>\n",
       "<p>252942 rows × 5 columns</p>\n",
       "</div>"
      ],
      "text/plain": [
       "        store  dept  weekly_sales  isholiday  week_no\n",
       "0           7    17       4470.08      False       42\n",
       "1          11    42       6525.65      False       35\n",
       "2          43    28         81.29      False       19\n",
       "3          40    67       6546.16      False       21\n",
       "4          25    55       9891.85      False       16\n",
       "...       ...   ...           ...        ...      ...\n",
       "252937     19    41       3119.17      False       41\n",
       "252938     31    58       3585.00      False       20\n",
       "252939     24    41       1221.33      False       17\n",
       "252940     16    82       8346.96      False        8\n",
       "252941      9    42       5242.16      False       39\n",
       "\n",
       "[252942 rows x 5 columns]"
      ]
     },
     "execution_count": 6,
     "metadata": {},
     "output_type": "execute_result"
    }
   ],
   "source": [
    "# reset_index(drop = TRUE)\n",
    "sales_df_test.reset_index(drop = True)\n",
    "sales_df_val.reset_index(drop = True)\n",
    "sales_df_train.reset_index(drop = True)"
   ]
  },
  {
   "cell_type": "code",
   "execution_count": 7,
   "id": "c2dad7bd",
   "metadata": {},
   "outputs": [
    {
     "name": "stderr",
     "output_type": "stream",
     "text": [
      "C:\\Users\\adars\\AppData\\Local\\Temp\\ipykernel_14148\\3056384655.py:3: RuntimeWarning: divide by zero encountered in log1p\n",
      "  y_test = np.log1p(sales_df_test.weekly_sales.values)\n",
      "C:\\Users\\adars\\AppData\\Local\\Temp\\ipykernel_14148\\3056384655.py:3: RuntimeWarning: invalid value encountered in log1p\n",
      "  y_test = np.log1p(sales_df_test.weekly_sales.values)\n",
      "C:\\Users\\adars\\AppData\\Local\\Temp\\ipykernel_14148\\3056384655.py:4: RuntimeWarning: divide by zero encountered in log1p\n",
      "  y_train = np.log1p(sales_df_train.weekly_sales.values)\n",
      "C:\\Users\\adars\\AppData\\Local\\Temp\\ipykernel_14148\\3056384655.py:4: RuntimeWarning: invalid value encountered in log1p\n",
      "  y_train = np.log1p(sales_df_train.weekly_sales.values)\n",
      "C:\\Users\\adars\\AppData\\Local\\Temp\\ipykernel_14148\\3056384655.py:5: RuntimeWarning: divide by zero encountered in log1p\n",
      "  y_val = np.log1p(sales_df_val.weekly_sales.values)\n",
      "C:\\Users\\adars\\AppData\\Local\\Temp\\ipykernel_14148\\3056384655.py:5: RuntimeWarning: invalid value encountered in log1p\n",
      "  y_val = np.log1p(sales_df_val.weekly_sales.values)\n"
     ]
    }
   ],
   "source": [
    "# setting the target value for model\n",
    "\n",
    "y_test = np.log1p(sales_df_test.weekly_sales.values)\n",
    "y_train = np.log1p(sales_df_train.weekly_sales.values)\n",
    "y_val = np.log1p(sales_df_val.weekly_sales.values)\n"
   ]
  },
  {
   "cell_type": "code",
   "execution_count": 8,
   "id": "7e0e9518",
   "metadata": {
    "scrolled": true
   },
   "outputs": [],
   "source": [
    "del sales_df_train['weekly_sales']\n",
    "del sales_df_test['weekly_sales']\n",
    "del sales_df_val['weekly_sales']\n"
   ]
  },
  {
   "cell_type": "code",
   "execution_count": 9,
   "id": "743c4b0e",
   "metadata": {},
   "outputs": [
    {
     "data": {
      "text/plain": [
       "store            5\n",
       "dept            72\n",
       "isholiday    False\n",
       "week_no         14\n",
       "Name: 46904, dtype: object"
      ]
     },
     "execution_count": 9,
     "metadata": {},
     "output_type": "execute_result"
    }
   ],
   "source": [
    "sales_df_train.iloc[10]"
   ]
  },
  {
   "cell_type": "code",
   "execution_count": 10,
   "id": "f2caee36",
   "metadata": {},
   "outputs": [
    {
     "name": "stderr",
     "output_type": "stream",
     "text": [
      "C:\\Users\\adars\\AppData\\Local\\Temp\\ipykernel_14148\\4119575238.py:1: SettingWithCopyWarning: \n",
      "A value is trying to be set on a copy of a slice from a DataFrame.\n",
      "Try using .loc[row_indexer,col_indexer] = value instead\n",
      "\n",
      "See the caveats in the documentation: https://pandas.pydata.org/pandas-docs/stable/user_guide/indexing.html#returning-a-view-versus-a-copy\n",
      "  sales_df_train['isholiday'] = sales_df_train['isholiday'].astype(int)\n",
      "C:\\Users\\adars\\AppData\\Local\\Temp\\ipykernel_14148\\4119575238.py:2: SettingWithCopyWarning: \n",
      "A value is trying to be set on a copy of a slice from a DataFrame.\n",
      "Try using .loc[row_indexer,col_indexer] = value instead\n",
      "\n",
      "See the caveats in the documentation: https://pandas.pydata.org/pandas-docs/stable/user_guide/indexing.html#returning-a-view-versus-a-copy\n",
      "  sales_df_test['isholiday'] = sales_df_train['isholiday'].astype(int)\n",
      "C:\\Users\\adars\\AppData\\Local\\Temp\\ipykernel_14148\\4119575238.py:3: SettingWithCopyWarning: \n",
      "A value is trying to be set on a copy of a slice from a DataFrame.\n",
      "Try using .loc[row_indexer,col_indexer] = value instead\n",
      "\n",
      "See the caveats in the documentation: https://pandas.pydata.org/pandas-docs/stable/user_guide/indexing.html#returning-a-view-versus-a-copy\n",
      "  sales_df_val['isholiday'] = sales_df_train['isholiday'].astype(int)\n"
     ]
    }
   ],
   "source": [
    "sales_df_train['isholiday'] = sales_df_train['isholiday'].astype(int)\n",
    "sales_df_test['isholiday'] = sales_df_train['isholiday'].astype(int)\n",
    "sales_df_val['isholiday'] = sales_df_train['isholiday'].astype(int)"
   ]
  },
  {
   "cell_type": "code",
   "execution_count": 11,
   "id": "fdcd11be",
   "metadata": {},
   "outputs": [
    {
     "data": {
      "text/html": [
       "<div>\n",
       "<style scoped>\n",
       "    .dataframe tbody tr th:only-of-type {\n",
       "        vertical-align: middle;\n",
       "    }\n",
       "\n",
       "    .dataframe tbody tr th {\n",
       "        vertical-align: top;\n",
       "    }\n",
       "\n",
       "    .dataframe thead th {\n",
       "        text-align: right;\n",
       "    }\n",
       "</style>\n",
       "<table border=\"1\" class=\"dataframe\">\n",
       "  <thead>\n",
       "    <tr style=\"text-align: right;\">\n",
       "      <th></th>\n",
       "      <th>store</th>\n",
       "      <th>dept</th>\n",
       "      <th>isholiday</th>\n",
       "      <th>week_no</th>\n",
       "    </tr>\n",
       "  </thead>\n",
       "  <tbody>\n",
       "    <tr>\n",
       "      <th>61286</th>\n",
       "      <td>7</td>\n",
       "      <td>17</td>\n",
       "      <td>0</td>\n",
       "      <td>42</td>\n",
       "    </tr>\n",
       "    <tr>\n",
       "      <th>103472</th>\n",
       "      <td>11</td>\n",
       "      <td>42</td>\n",
       "      <td>0</td>\n",
       "      <td>35</td>\n",
       "    </tr>\n",
       "    <tr>\n",
       "      <th>400842</th>\n",
       "      <td>43</td>\n",
       "      <td>28</td>\n",
       "      <td>0</td>\n",
       "      <td>19</td>\n",
       "    </tr>\n",
       "    <tr>\n",
       "      <th>378086</th>\n",
       "      <td>40</td>\n",
       "      <td>67</td>\n",
       "      <td>0</td>\n",
       "      <td>21</td>\n",
       "    </tr>\n",
       "    <tr>\n",
       "      <th>243626</th>\n",
       "      <td>25</td>\n",
       "      <td>55</td>\n",
       "      <td>0</td>\n",
       "      <td>16</td>\n",
       "    </tr>\n",
       "    <tr>\n",
       "      <th>...</th>\n",
       "      <td>...</td>\n",
       "      <td>...</td>\n",
       "      <td>...</td>\n",
       "      <td>...</td>\n",
       "    </tr>\n",
       "    <tr>\n",
       "      <th>182607</th>\n",
       "      <td>19</td>\n",
       "      <td>41</td>\n",
       "      <td>0</td>\n",
       "      <td>41</td>\n",
       "    </tr>\n",
       "    <tr>\n",
       "      <th>300563</th>\n",
       "      <td>31</td>\n",
       "      <td>58</td>\n",
       "      <td>0</td>\n",
       "      <td>20</td>\n",
       "    </tr>\n",
       "    <tr>\n",
       "      <th>232299</th>\n",
       "      <td>24</td>\n",
       "      <td>41</td>\n",
       "      <td>0</td>\n",
       "      <td>17</td>\n",
       "    </tr>\n",
       "    <tr>\n",
       "      <th>155943</th>\n",
       "      <td>16</td>\n",
       "      <td>82</td>\n",
       "      <td>0</td>\n",
       "      <td>8</td>\n",
       "    </tr>\n",
       "    <tr>\n",
       "      <th>84143</th>\n",
       "      <td>9</td>\n",
       "      <td>42</td>\n",
       "      <td>0</td>\n",
       "      <td>39</td>\n",
       "    </tr>\n",
       "  </tbody>\n",
       "</table>\n",
       "<p>252942 rows × 4 columns</p>\n",
       "</div>"
      ],
      "text/plain": [
       "        store  dept  isholiday  week_no\n",
       "61286       7    17          0       42\n",
       "103472     11    42          0       35\n",
       "400842     43    28          0       19\n",
       "378086     40    67          0       21\n",
       "243626     25    55          0       16\n",
       "...       ...   ...        ...      ...\n",
       "182607     19    41          0       41\n",
       "300563     31    58          0       20\n",
       "232299     24    41          0       17\n",
       "155943     16    82          0        8\n",
       "84143       9    42          0       39\n",
       "\n",
       "[252942 rows x 4 columns]"
      ]
     },
     "execution_count": 11,
     "metadata": {},
     "output_type": "execute_result"
    }
   ],
   "source": [
    "sales_df_train"
   ]
  },
  {
   "cell_type": "code",
   "execution_count": 12,
   "id": "efd8ae31",
   "metadata": {},
   "outputs": [
    {
     "name": "stderr",
     "output_type": "stream",
     "text": [
      "C:\\ProgramData\\anaconda3\\Lib\\site-packages\\sklearn\\utils\\extmath.py:1051: RuntimeWarning: invalid value encountered in divide\n",
      "  updated_mean = (last_sum + new_sum) / updated_sample_count\n",
      "C:\\ProgramData\\anaconda3\\Lib\\site-packages\\sklearn\\utils\\extmath.py:1056: RuntimeWarning: invalid value encountered in divide\n",
      "  T = new_sum / new_sample_count\n",
      "C:\\ProgramData\\anaconda3\\Lib\\site-packages\\sklearn\\utils\\extmath.py:1076: RuntimeWarning: invalid value encountered in divide\n",
      "  new_unnormalized_variance -= correction**2 / new_sample_count\n",
      "C:\\ProgramData\\anaconda3\\Lib\\site-packages\\sklearn\\utils\\extmath.py:1051: RuntimeWarning: invalid value encountered in divide\n",
      "  updated_mean = (last_sum + new_sum) / updated_sample_count\n",
      "C:\\ProgramData\\anaconda3\\Lib\\site-packages\\sklearn\\utils\\extmath.py:1056: RuntimeWarning: invalid value encountered in divide\n",
      "  T = new_sum / new_sample_count\n",
      "C:\\ProgramData\\anaconda3\\Lib\\site-packages\\sklearn\\utils\\extmath.py:1076: RuntimeWarning: invalid value encountered in divide\n",
      "  new_unnormalized_variance -= correction**2 / new_sample_count\n"
     ]
    }
   ],
   "source": [
    "# Normalisation of features\n",
    "\n",
    "import pandas as pd\n",
    "from sklearn.preprocessing import StandardScaler\n",
    "\n",
    "# Instantiate the scaler\n",
    "scaler = StandardScaler()\n",
    "\n",
    "# Fit and transform the data\n",
    "train_scaled_features = scaler.fit_transform(sales_df_train)\n",
    "# Convert the scaled features back to a DataFrame\n",
    "train_df_scaled = pd.DataFrame(train_scaled_features, columns=sales_df_train.columns)\n",
    "\n",
    "test_scaled_features = scaler.fit_transform(sales_df_test)\n",
    "val_scaled_features = scaler.fit_transform(sales_df_val)\n",
    "\n",
    "test_df_scaled = pd.DataFrame(test_scaled_features, columns=sales_df_train.columns)\n",
    "val_df_scaled = pd.DataFrame(val_scaled_features, columns=sales_df_train.columns)\n"
   ]
  },
  {
   "cell_type": "code",
   "execution_count": 32,
   "id": "4a0880a3",
   "metadata": {},
   "outputs": [],
   "source": [
    "val_df_scaled = val_df_scaled.fillna(0)"
   ]
  },
  {
   "cell_type": "code",
   "execution_count": 33,
   "id": "d00c6751",
   "metadata": {},
   "outputs": [
    {
     "data": {
      "text/html": [
       "<div>\n",
       "<style scoped>\n",
       "    .dataframe tbody tr th:only-of-type {\n",
       "        vertical-align: middle;\n",
       "    }\n",
       "\n",
       "    .dataframe tbody tr th {\n",
       "        vertical-align: top;\n",
       "    }\n",
       "\n",
       "    .dataframe thead th {\n",
       "        text-align: right;\n",
       "    }\n",
       "</style>\n",
       "<table border=\"1\" class=\"dataframe\">\n",
       "  <thead>\n",
       "    <tr style=\"text-align: right;\">\n",
       "      <th></th>\n",
       "      <th>store</th>\n",
       "      <th>dept</th>\n",
       "      <th>isholiday</th>\n",
       "      <th>week_no</th>\n",
       "    </tr>\n",
       "  </thead>\n",
       "  <tbody>\n",
       "    <tr>\n",
       "      <th>0</th>\n",
       "      <td>-1.190109</td>\n",
       "      <td>-0.892871</td>\n",
       "      <td>-0.274585</td>\n",
       "      <td>1.142987</td>\n",
       "    </tr>\n",
       "    <tr>\n",
       "      <th>1</th>\n",
       "      <td>-0.877266</td>\n",
       "      <td>-0.072619</td>\n",
       "      <td>-0.274585</td>\n",
       "      <td>0.647891</td>\n",
       "    </tr>\n",
       "    <tr>\n",
       "      <th>2</th>\n",
       "      <td>1.625474</td>\n",
       "      <td>-0.531960</td>\n",
       "      <td>-0.274585</td>\n",
       "      <td>-0.483756</td>\n",
       "    </tr>\n",
       "    <tr>\n",
       "      <th>3</th>\n",
       "      <td>1.390842</td>\n",
       "      <td>0.747633</td>\n",
       "      <td>-0.274585</td>\n",
       "      <td>-0.342300</td>\n",
       "    </tr>\n",
       "    <tr>\n",
       "      <th>4</th>\n",
       "      <td>0.217683</td>\n",
       "      <td>0.353912</td>\n",
       "      <td>-0.274585</td>\n",
       "      <td>-0.695940</td>\n",
       "    </tr>\n",
       "    <tr>\n",
       "      <th>...</th>\n",
       "      <td>...</td>\n",
       "      <td>...</td>\n",
       "      <td>...</td>\n",
       "      <td>...</td>\n",
       "    </tr>\n",
       "    <tr>\n",
       "      <th>252937</th>\n",
       "      <td>-0.251581</td>\n",
       "      <td>-0.105429</td>\n",
       "      <td>-0.274585</td>\n",
       "      <td>1.072259</td>\n",
       "    </tr>\n",
       "    <tr>\n",
       "      <th>252938</th>\n",
       "      <td>0.686947</td>\n",
       "      <td>0.452342</td>\n",
       "      <td>-0.274585</td>\n",
       "      <td>-0.413028</td>\n",
       "    </tr>\n",
       "    <tr>\n",
       "      <th>252939</th>\n",
       "      <td>0.139472</td>\n",
       "      <td>-0.105429</td>\n",
       "      <td>-0.274585</td>\n",
       "      <td>-0.625212</td>\n",
       "    </tr>\n",
       "    <tr>\n",
       "      <th>252940</th>\n",
       "      <td>-0.486213</td>\n",
       "      <td>1.239784</td>\n",
       "      <td>-0.274585</td>\n",
       "      <td>-1.261764</td>\n",
       "    </tr>\n",
       "    <tr>\n",
       "      <th>252941</th>\n",
       "      <td>-1.033688</td>\n",
       "      <td>-0.072619</td>\n",
       "      <td>-0.274585</td>\n",
       "      <td>0.930803</td>\n",
       "    </tr>\n",
       "  </tbody>\n",
       "</table>\n",
       "<p>252942 rows × 4 columns</p>\n",
       "</div>"
      ],
      "text/plain": [
       "           store      dept  isholiday   week_no\n",
       "0      -1.190109 -0.892871  -0.274585  1.142987\n",
       "1      -0.877266 -0.072619  -0.274585  0.647891\n",
       "2       1.625474 -0.531960  -0.274585 -0.483756\n",
       "3       1.390842  0.747633  -0.274585 -0.342300\n",
       "4       0.217683  0.353912  -0.274585 -0.695940\n",
       "...          ...       ...        ...       ...\n",
       "252937 -0.251581 -0.105429  -0.274585  1.072259\n",
       "252938  0.686947  0.452342  -0.274585 -0.413028\n",
       "252939  0.139472 -0.105429  -0.274585 -0.625212\n",
       "252940 -0.486213  1.239784  -0.274585 -1.261764\n",
       "252941 -1.033688 -0.072619  -0.274585  0.930803\n",
       "\n",
       "[252942 rows x 4 columns]"
      ]
     },
     "execution_count": 33,
     "metadata": {},
     "output_type": "execute_result"
    }
   ],
   "source": [
    "train_df_scaled"
   ]
  },
  {
   "cell_type": "markdown",
   "id": "aa28a12f",
   "metadata": {},
   "source": [
    "## One-Hot encoding"
   ]
  },
  {
   "cell_type": "code",
   "execution_count": 34,
   "id": "4ef3b4f7",
   "metadata": {},
   "outputs": [],
   "source": [
    "\n",
    "from sklearn.feature_extraction import DictVectorizer\n",
    "\n",
    "dv = DictVectorizer(sparse = False)"
   ]
  },
  {
   "cell_type": "code",
   "execution_count": 35,
   "id": "24bc8dc8",
   "metadata": {},
   "outputs": [],
   "source": [
    "train_dict = train_df_scaled.to_dict(orient='records')\n",
    "X_train = dv.fit_transform(train_dict)\n",
    "\n",
    "val_dict = val_df_scaled.to_dict(orient='records')\n",
    "X_val = dv.fit_transform(val_dict)"
   ]
  },
  {
   "cell_type": "code",
   "execution_count": 36,
   "id": "7cb4372f",
   "metadata": {},
   "outputs": [
    {
     "data": {
      "text/plain": [
       "array([[-1.12568189,  0.        ,  1.47552936,  1.7771827 ],\n",
       "       [-0.66620747,  0.        , -0.6390585 , -0.62026588],\n",
       "       [-1.22414069,  0.        ,  1.47552936,  1.63615632],\n",
       "       ...,\n",
       "       [-1.09286229,  0.        ,  1.78880164,  0.7194848 ],\n",
       "       [-0.27237225,  0.        , -1.50055726, -1.60745059],\n",
       "       [ 0.15428257,  0.        , -0.71737657, -0.76129227]])"
      ]
     },
     "execution_count": 36,
     "metadata": {},
     "output_type": "execute_result"
    }
   ],
   "source": [
    "X_val"
   ]
  },
  {
   "cell_type": "code",
   "execution_count": null,
   "id": "24c1db67",
   "metadata": {},
   "outputs": [],
   "source": []
  },
  {
   "cell_type": "markdown",
   "id": "45d52471",
   "metadata": {},
   "source": [
    "## Model"
   ]
  },
  {
   "cell_type": "code",
   "execution_count": 37,
   "id": "b197c9ca",
   "metadata": {},
   "outputs": [
    {
     "name": "stdout",
     "output_type": "stream",
     "text": [
      "8.526446646764224\n",
      "'nan' value after replacing it with mean_value : 0\n"
     ]
    }
   ],
   "source": [
    "# handling 'inf value'\n",
    "np.sum(np.isinf(y_train))\n",
    "inf_mask = np.isinf(y_train)\n",
    "\n",
    "# replace 'inf' with 'nan' value\n",
    "y_train[inf_mask] = np.nan\n",
    "\n",
    "# calculating mean of the array\n",
    "mean_value = np.nanmean(y_train)\n",
    "print(mean_value)\n",
    "\n",
    "# replacing 'nan' value with mean_value\n",
    "replaced_array_train = np.where(np.isnan(y_train), mean_value, y_train)\n",
    "print(\"'nan' value after replacing it with mean_value :\", np.sum(np.isnan(replaced_array_train)))\n"
   ]
  },
  {
   "cell_type": "code",
   "execution_count": 38,
   "id": "67d483ab",
   "metadata": {},
   "outputs": [
    {
     "name": "stdout",
     "output_type": "stream",
     "text": [
      "8.532836212983126\n",
      "'nan' value after replacing it with mean_value : 0\n"
     ]
    }
   ],
   "source": [
    "# handling 'inf value'\n",
    "np.sum(np.isinf(y_test))\n",
    "inf_mask = np.isinf(y_test)\n",
    "\n",
    "# replace 'inf' with 'nan' value\n",
    "y_test[inf_mask] = np.nan\n",
    "\n",
    "# calculating mean of the array\n",
    "mean_value = np.nanmean(y_test)\n",
    "print(mean_value)\n",
    "\n",
    "# replacing 'nan' value with mean_value\n",
    "replaced_array_test = np.where(np.isnan(y_test), mean_value, y_test)\n",
    "print(\"'nan' value after replacing it with mean_value :\", np.sum(np.isnan(replaced_array_test)))\n"
   ]
  },
  {
   "cell_type": "code",
   "execution_count": 39,
   "id": "0c192fe8",
   "metadata": {},
   "outputs": [
    {
     "name": "stdout",
     "output_type": "stream",
     "text": [
      "8.517381334713368\n",
      "'nan' value after replacing it with mean_value : 0\n"
     ]
    }
   ],
   "source": [
    "# handling 'inf value'\n",
    "np.sum(np.isinf(y_val))\n",
    "inf_mask = np.isinf(y_val)\n",
    "\n",
    "# replace 'inf' with 'nan' value\n",
    "y_val[inf_mask] = np.nan\n",
    "\n",
    "# calculating mean of the array\n",
    "mean_value = np.nanmean(y_val)\n",
    "print(mean_value)\n",
    "\n",
    "# replacing 'nan' value with mean_value\n",
    "replaced_array_val = np.where(np.isnan(y_val), mean_value, y_val)\n",
    "print(\"'nan' value after replacing it with mean_value :\", np.sum(np.isnan(replaced_array_val)))\n"
   ]
  },
  {
   "cell_type": "code",
   "execution_count": 40,
   "id": "03867f2c",
   "metadata": {},
   "outputs": [
    {
     "data": {
      "text/plain": [
       "0"
      ]
     },
     "execution_count": 40,
     "metadata": {},
     "output_type": "execute_result"
    }
   ],
   "source": [
    "np.sum(np.isnan(X_val))"
   ]
  },
  {
   "cell_type": "code",
   "execution_count": null,
   "id": "90104d34",
   "metadata": {},
   "outputs": [],
   "source": []
  },
  {
   "cell_type": "code",
   "execution_count": null,
   "id": "7ad5354e",
   "metadata": {},
   "outputs": [],
   "source": []
  },
  {
   "cell_type": "code",
   "execution_count": null,
   "id": "d0f94a3c",
   "metadata": {},
   "outputs": [],
   "source": []
  },
  {
   "cell_type": "code",
   "execution_count": null,
   "id": "fa496f8e",
   "metadata": {},
   "outputs": [],
   "source": []
  },
  {
   "cell_type": "code",
   "execution_count": 74,
   "id": "834a8f62",
   "metadata": {},
   "outputs": [
    {
     "name": "stdout",
     "output_type": "stream",
     "text": [
      "[8.14325392 8.64334386 8.13241212 ... 8.01288187 8.85657826 8.69827823]\n",
      "84314\n",
      "Actual Prediction: [3439.0934549  5671.26542313 3401.99812251 ... 3018.60669348 7019.41954376\n",
      " 5991.58545709]\n"
     ]
    }
   ],
   "source": [
    "from sklearn.linear_model import LinearRegression\n",
    "\n",
    "model = LinearRegression()\n",
    "\n",
    "# training model\n",
    "model.fit(X_train, replaced_array_train)\n",
    "\n",
    "# prediction\n",
    "y_pred = model.predict(X_val)\n",
    "print(y_pred)\n",
    "print(len(y_pred))\n",
    "\n",
    "actual_pred = np.expm1(y_pred)\n",
    "print(\"Actual Prediction:\", actual_pred)"
   ]
  },
  {
   "cell_type": "code",
   "execution_count": 75,
   "id": "97499cad",
   "metadata": {},
   "outputs": [
    {
     "name": "stdout",
     "output_type": "stream",
     "text": [
      "[10.07068532  8.94033579 11.4516822  ...  9.46346594  5.40159572\n",
      "  8.98131833]\n",
      "84314\n",
      "[23638.76  7632.76 94058.44 ... 12879.45   220.76  7952.11]\n"
     ]
    }
   ],
   "source": [
    "print(replaced_array_val)\n",
    "print(len(replaced_array_val))\n",
    "\n",
    "actual_y_val = np.expm1(replaced_array_val)\n",
    "print(actual_y_val)"
   ]
  },
  {
   "cell_type": "markdown",
   "id": "f2311981",
   "metadata": {},
   "source": [
    "## RMSE"
   ]
  },
  {
   "cell_type": "code",
   "execution_count": 80,
   "id": "a88e8267",
   "metadata": {},
   "outputs": [
    {
     "name": "stdout",
     "output_type": "stream",
     "text": [
      "rsme: 2.0022312052050584\n"
     ]
    }
   ],
   "source": [
    "def rsme(y_true, y_pred):\n",
    "    y_true = np.array(y_true)\n",
    "    y_pred = np.array(y_pred)\n",
    "    \n",
    "    sq_diff = (y_true - y_pred)**2\n",
    "    mean_sq_error = np.mean(sq_diff)\n",
    "    rsme = np.sqrt(mean_sq_error)\n",
    "    \n",
    "    return rsme\n",
    "\n",
    "cal_rsme = rsme(y_pred,replaced_array_val )\n",
    "print(\"rsme:\", cal_rsme)"
   ]
  },
  {
   "cell_type": "code",
   "execution_count": 81,
   "id": "c8a186ef",
   "metadata": {},
   "outputs": [
    {
     "name": "stdout",
     "output_type": "stream",
     "text": [
      "24760.856357498473\n"
     ]
    }
   ],
   "source": [
    "print(rsme(actual_pred, actual_y_val))"
   ]
  },
  {
   "cell_type": "code",
   "execution_count": null,
   "id": "3c2686df",
   "metadata": {},
   "outputs": [],
   "source": []
  },
  {
   "cell_type": "code",
   "execution_count": null,
   "id": "c20015d9",
   "metadata": {},
   "outputs": [],
   "source": []
  }
 ],
 "metadata": {
  "kernelspec": {
   "display_name": "Python 3 (ipykernel)",
   "language": "python",
   "name": "python3"
  },
  "language_info": {
   "codemirror_mode": {
    "name": "ipython",
    "version": 3
   },
   "file_extension": ".py",
   "mimetype": "text/x-python",
   "name": "python",
   "nbconvert_exporter": "python",
   "pygments_lexer": "ipython3",
   "version": "3.11.5"
  }
 },
 "nbformat": 4,
 "nbformat_minor": 5
}
